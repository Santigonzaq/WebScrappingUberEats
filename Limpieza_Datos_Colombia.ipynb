{
 "cells": [
  {
   "cell_type": "code",
   "execution_count": 296,
   "metadata": {},
   "outputs": [],
   "source": [
    "import pandas as pd\n",
    "import numpy as np \n",
    "pd.options.display.max_colwidth = 100"
   ]
  },
  {
   "cell_type": "markdown",
   "metadata": {},
   "source": [
    "### RESTAURANTES UBER EATS COLOMBIA. SCRAPPEADOS: 9 JUNIO 2020 3-4 PM."
   ]
  },
  {
   "cell_type": "markdown",
   "metadata": {},
   "source": [
    "### Se carga la lista de restaurantes scrappeados:"
   ]
  },
  {
   "cell_type": "code",
   "execution_count": 297,
   "metadata": {},
   "outputs": [],
   "source": [
    "restaurantes=pd.read_csv(\"restaurantes_09062020pm.csv\")"
   ]
  },
  {
   "cell_type": "code",
   "execution_count": 298,
   "metadata": {},
   "outputs": [
    {
     "output_type": "stream",
     "name": "stdout",
     "text": "Se tienen:  2535  restaurantes\n"
    }
   ],
   "source": [
    "print(\"Se tienen: \", len(restaurantes), \" restaurantes\")"
   ]
  },
  {
   "cell_type": "code",
   "execution_count": 299,
   "metadata": {},
   "outputs": [
    {
     "output_type": "execute_result",
     "data": {
      "text/plain": "   Unnamed: 0                    Nombre   Categoria_Especifica  Calificacion  \\\n0           0                     Piali              $ • Pizza           4.5   \n1           1  Urban Pizzería (Armenia)             $$ • Pizza           4.6   \n2           2           Mundial Pizza's             $$ • Pizza           NaN   \n3           3               Oeste Pizza  $$ • Italiana • Pizza           4.5   \n4           4               Parma Pizza          $$ • Italiana           4.4   \n\n  Reviews  \\\n0    (33)   \n1    (91)   \n2     NaN   \n3    (11)   \n4    (31)   \n\n                                                                              Direccion  \\\n0  Carrera 22 #9-45, Armenia, Armenia 630003 Colombia, Armenia 110221 • Más información   \n1     Av. Centenario Carrera 6, Cra 6 #8N-40, Armenia, Quindío 630004 • Más información   \n2                         Av Bolívar # 19-46, Armenia, Quindio 110221 • Más información   \n3                              Cra. 14a, Armenia, Quindío, Colombia,  • Más información   \n4              Cra. 6 ##3180, Armenia, Quindío, Colombia, Local 220,  • Más información   \n\n                                                                                               Url  \n0                   https://www.ubereats.com/co/armenia/food-delivery/piali/gcDAW8dkSpGFa7G-nvkehw  \n1  https://www.ubereats.com/co/armenia/food-delivery/urban-pizzeria-armenia/bVpxAzDDQ42Mv9IAvmkvtg  \n2          https://www.ubereats.com/co/armenia/food-delivery/mundial-pizzas/LtB5pxmyRNWVPjF85K4qgQ  \n3             https://www.ubereats.com/co/armenia/food-delivery/oeste-pizza/1hb90vymQFyQ_m_y8zMZ8Q  \n4             https://www.ubereats.com/co/armenia/food-delivery/parma-pizza/umiGVtjiS2uz-8QYSa3OVw  ",
      "text/html": "<div>\n<style scoped>\n    .dataframe tbody tr th:only-of-type {\n        vertical-align: middle;\n    }\n\n    .dataframe tbody tr th {\n        vertical-align: top;\n    }\n\n    .dataframe thead th {\n        text-align: right;\n    }\n</style>\n<table border=\"1\" class=\"dataframe\">\n  <thead>\n    <tr style=\"text-align: right;\">\n      <th></th>\n      <th>Unnamed: 0</th>\n      <th>Nombre</th>\n      <th>Categoria_Especifica</th>\n      <th>Calificacion</th>\n      <th>Reviews</th>\n      <th>Direccion</th>\n      <th>Url</th>\n    </tr>\n  </thead>\n  <tbody>\n    <tr>\n      <th>0</th>\n      <td>0</td>\n      <td>Piali</td>\n      <td>$ • Pizza</td>\n      <td>4.5</td>\n      <td>(33)</td>\n      <td>Carrera 22 #9-45, Armenia, Armenia 630003 Colombia, Armenia 110221 • Más información</td>\n      <td>https://www.ubereats.com/co/armenia/food-delivery/piali/gcDAW8dkSpGFa7G-nvkehw</td>\n    </tr>\n    <tr>\n      <th>1</th>\n      <td>1</td>\n      <td>Urban Pizzería (Armenia)</td>\n      <td>$$ • Pizza</td>\n      <td>4.6</td>\n      <td>(91)</td>\n      <td>Av. Centenario Carrera 6, Cra 6 #8N-40, Armenia, Quindío 630004 • Más información</td>\n      <td>https://www.ubereats.com/co/armenia/food-delivery/urban-pizzeria-armenia/bVpxAzDDQ42Mv9IAvmkvtg</td>\n    </tr>\n    <tr>\n      <th>2</th>\n      <td>2</td>\n      <td>Mundial Pizza's</td>\n      <td>$$ • Pizza</td>\n      <td>NaN</td>\n      <td>NaN</td>\n      <td>Av Bolívar # 19-46, Armenia, Quindio 110221 • Más información</td>\n      <td>https://www.ubereats.com/co/armenia/food-delivery/mundial-pizzas/LtB5pxmyRNWVPjF85K4qgQ</td>\n    </tr>\n    <tr>\n      <th>3</th>\n      <td>3</td>\n      <td>Oeste Pizza</td>\n      <td>$$ • Italiana • Pizza</td>\n      <td>4.5</td>\n      <td>(11)</td>\n      <td>Cra. 14a, Armenia, Quindío, Colombia,  • Más información</td>\n      <td>https://www.ubereats.com/co/armenia/food-delivery/oeste-pizza/1hb90vymQFyQ_m_y8zMZ8Q</td>\n    </tr>\n    <tr>\n      <th>4</th>\n      <td>4</td>\n      <td>Parma Pizza</td>\n      <td>$$ • Italiana</td>\n      <td>4.4</td>\n      <td>(31)</td>\n      <td>Cra. 6 ##3180, Armenia, Quindío, Colombia, Local 220,  • Más información</td>\n      <td>https://www.ubereats.com/co/armenia/food-delivery/parma-pizza/umiGVtjiS2uz-8QYSa3OVw</td>\n    </tr>\n  </tbody>\n</table>\n</div>"
     },
     "metadata": {},
     "execution_count": 299
    }
   ],
   "source": [
    "restaurantes.head()"
   ]
  },
  {
   "cell_type": "markdown",
   "metadata": {},
   "source": [
    "### Existen resturantes que figuran en varias categorías generales, y tendrán registros duplicados, se eliminan:"
   ]
  },
  {
   "cell_type": "code",
   "execution_count": 300,
   "metadata": {},
   "outputs": [],
   "source": [
    "restaurantes.drop(\"Unnamed: 0\" ,axis=1, inplace=True) ##Borrar columna innecesaria que proviene de la extracción.\n",
    "restaurantes.drop_duplicates(keep=\"first\",inplace=True) ## Borrar duplicados"
   ]
  },
  {
   "cell_type": "markdown",
   "metadata": {},
   "source": [
    "### Se obtienen finalmente 1073 restaurantes diferentes"
   ]
  },
  {
   "cell_type": "code",
   "execution_count": 301,
   "metadata": {},
   "outputs": [
    {
     "output_type": "execute_result",
     "data": {
      "text/plain": "(1073, 6)"
     },
     "metadata": {},
     "execution_count": 301
    }
   ],
   "source": [
    "restaurantes.shape ##Tamaño del dataset"
   ]
  },
  {
   "cell_type": "markdown",
   "metadata": {},
   "source": [
    "### Variables:"
   ]
  },
  {
   "cell_type": "code",
   "execution_count": 302,
   "metadata": {},
   "outputs": [
    {
     "output_type": "execute_result",
     "data": {
      "text/plain": "Index(['Nombre', 'Categoria_Especifica', 'Calificacion', 'Reviews',\n       'Direccion', 'Url'],\n      dtype='object')"
     },
     "metadata": {},
     "execution_count": 302
    }
   ],
   "source": [
    "restaurantes.columns ##Columnas"
   ]
  },
  {
   "cell_type": "markdown",
   "metadata": {},
   "source": [
    "### * NOMBRE: \n",
    "Nombre con el cuál se identifica el restaurante en la página. (String)\n",
    "### * CATEGORIA_ ESPECIFICA:\n",
    " Diferentes categorías en las cuales se puede ubicar el restaurante. Puede ser multivaluado. Es necesario hacer una limpieza, ya que los datos vienen sucios. (string)\n",
    "\n",
    "### * CALIFICACIÓN: \n",
    "Puntuación que reporta la página para el restaurante. (float)\n",
    "\n",
    "### * REVIEWS: \n",
    "Número de reviews que presenta la página para el restaurante. Es necesario hacer limpieza, ya que viene con caracteres sucios. (String)\n",
    "\n",
    "### * Dirección:\n",
    " Ubicación que reporta la página para el restaurante. Es necesario hacer limpieza, ya que viene con datos sucios.\n",
    "\n",
    "### * URL: \n",
    "URL exacta con la cuál se identifica el restaurante en la página.\n",
    "\n",
    "\n",
    "### Se observa el dtypes:"
   ]
  },
  {
   "cell_type": "code",
   "execution_count": 303,
   "metadata": {},
   "outputs": [
    {
     "output_type": "stream",
     "name": "stdout",
     "text": "Tipos de datos: \n"
    },
    {
     "output_type": "execute_result",
     "data": {
      "text/plain": "Nombre                   object\nCategoria_Especifica     object\nCalificacion            float64\nReviews                  object\nDireccion                object\nUrl                      object\ndtype: object"
     },
     "metadata": {},
     "execution_count": 303
    }
   ],
   "source": [
    "print(\"Tipos de datos: \") \n",
    "restaurantes.dtypes ##Tipos de las variables"
   ]
  },
  {
   "cell_type": "markdown",
   "metadata": {},
   "source": [
    "### Buscar valores faltantes: "
   ]
  },
  {
   "cell_type": "code",
   "execution_count": 304,
   "metadata": {},
   "outputs": [
    {
     "output_type": "stream",
     "name": "stdout",
     "text": "Datos faltantes por cada variable: \n"
    },
    {
     "output_type": "execute_result",
     "data": {
      "text/plain": "Nombre                    0\nCategoria_Especifica      1\nCalificacion            564\nReviews                 564\nDireccion                 2\nUrl                       0\ndtype: int64"
     },
     "metadata": {},
     "execution_count": 304
    }
   ],
   "source": [
    "print(\"Datos faltantes por cada variable: \")\n",
    "restaurantes.isna().sum() ##Mostrar faltantes por variable"
   ]
  },
  {
   "cell_type": "markdown",
   "metadata": {},
   "source": [
    "### CALIFICACIÓN Y REVIEWS FALTANTES:\n",
    " La mayor cantidad de los faltantes en los registros, está en calificación y número de reviews. Esto es porque la mayor parte de los restaurantes cuando están cerrados ocultan su calificación y número de reviews. Adicional a eso, cuando un restaurante es nuevo en la página, tampoco reporta calificación y reviews. Finalmente, dada la situación actual (covid), muchos restaurantes no están operando y salen no disponibles en la plataforma; por ende, ocultan su información de calificación y reviews.\n",
    "\n",
    "### RESTO DE VARIABLES FALTANTES:\n",
    "El resto de variables faltantes en los registros, que son muy pocas, es porque el restaurante no tenía la información disponible."
   ]
  },
  {
   "cell_type": "markdown",
   "metadata": {},
   "source": []
  },
  {
   "cell_type": "markdown",
   "metadata": {},
   "source": [
    "### LIMPIEZA DE DATOS:\n",
    "\n",
    "#### * DIRECCIÓN:"
   ]
  },
  {
   "cell_type": "code",
   "execution_count": 305,
   "metadata": {},
   "outputs": [
    {
     "output_type": "execute_result",
     "data": {
      "text/plain": "0    Carrera 22 #9-45, Armenia, Armenia 630003 Colombia, Armenia 110221 • Más información\n1       Av. Centenario Carrera 6, Cra 6 #8N-40, Armenia, Quindío 630004 • Más información\n2                           Av Bolívar # 19-46, Armenia, Quindio 110221 • Más información\n3                                Cra. 14a, Armenia, Quindío, Colombia,  • Más información\n4                Cra. 6 ##3180, Armenia, Quindío, Colombia, Local 220,  • Más información\nName: Direccion, dtype: object"
     },
     "metadata": {},
     "execution_count": 305
    }
   ],
   "source": [
    "restaurantes[\"Direccion\"].head()"
   ]
  },
  {
   "cell_type": "markdown",
   "metadata": {},
   "source": [
    "*Se observa que tienen el string \" • Mas información\" en todos lo registros. Se procede a eliminar. Así mismo se borran espacios en blanco al comienzo y final.\n"
   ]
  },
  {
   "cell_type": "code",
   "execution_count": 306,
   "metadata": {},
   "outputs": [],
   "source": [
    "restaurantes[\"Direccion\"]=restaurantes[\"Direccion\"].apply(lambda x : str(x).replace(\"•\", \"\").replace(\"Más información\",\"\").strip()) ##Borrar string y espacios no deseados"
   ]
  },
  {
   "cell_type": "code",
   "execution_count": 307,
   "metadata": {},
   "outputs": [
    {
     "output_type": "execute_result",
     "data": {
      "text/plain": "'Av. Centenario Carrera 6, Cra 6 #8N-40, Armenia, Quindío 630004'"
     },
     "metadata": {},
     "execution_count": 307
    }
   ],
   "source": [
    "restaurantes[\"Direccion\"][1] ##Prueba"
   ]
  },
  {
   "cell_type": "markdown",
   "metadata": {},
   "source": [
    "### * REVIEWS:"
   ]
  },
  {
   "cell_type": "code",
   "execution_count": 308,
   "metadata": {},
   "outputs": [
    {
     "output_type": "execute_result",
     "data": {
      "text/plain": "(100+)    28\n(200+)    27\n(13)      21\n(17)      18\n(12)      18\n          ..\n(172)      1\n(179)      1\n(173)      1\n(93)       1\n(62)       1\nName: Reviews, Length: 119, dtype: int64"
     },
     "metadata": {},
     "execution_count": 308
    }
   ],
   "source": [
    "restaurantes[\"Reviews\"].value_counts() ##Tipos de valores en reviews"
   ]
  },
  {
   "cell_type": "markdown",
   "metadata": {},
   "source": [
    "Se nota que hay paréntesis y signos \"+\" no deseados, pues el interes está únicamente en el valor entero. Se procede a eliminar el signo \"+\" y los parentesis. Adicional a eso, se hace la conversión a columna numérica."
   ]
  },
  {
   "cell_type": "code",
   "execution_count": 309,
   "metadata": {},
   "outputs": [],
   "source": [
    "restaurantes[\"Reviews\"]=restaurantes[\"Reviews\"].apply(lambda x : str(x).replace(\"+\", \"\").replace(\"(\",\"\").replace(\")\",\"\").strip()) ##Borrar string y espacios"
   ]
  },
  {
   "cell_type": "code",
   "execution_count": 310,
   "metadata": {},
   "outputs": [
    {
     "output_type": "stream",
     "name": "stdout",
     "text": "Int64\n"
    },
    {
     "output_type": "execute_result",
     "data": {
      "text/plain": "0      33\n1      91\n2    <NA>\n3      11\n4      31\nName: Reviews, dtype: Int64"
     },
     "metadata": {},
     "execution_count": 310
    }
   ],
   "source": [
    "restaurantes['Reviews'] = restaurantes.Reviews.astype('float').astype(\"Int64\") ##Convertir a tipo entero\n",
    "print(restaurantes[\"Reviews\"].dtype)\n",
    "restaurantes[\"Reviews\"].head()\n"
   ]
  },
  {
   "cell_type": "markdown",
   "metadata": {},
   "source": [
    "### CATEGORÍA ESPECIFICA:\n",
    "\n",
    "*Puede verse que todas los registros tienen un \" \\$ \" o \" \\$\\$ \".\n",
    " No sé sabe con seguridad lo que significa esto, pero parece importante almacenar si tiene uno o dos. Se retirarán dichos signos del registro de categoría, pero se creará otra variable que diga cuantos \"$\" tenía.\n",
    "\n",
    " *Adicional a esto, también se ve la presencia del carater \" • \""
   ]
  },
  {
   "cell_type": "code",
   "execution_count": 311,
   "metadata": {},
   "outputs": [
    {
     "output_type": "execute_result",
     "data": {
      "text/plain": "0                $ • Pizza\n1               $$ • Pizza\n2               $$ • Pizza\n3    $$ • Italiana • Pizza\n4            $$ • Italiana\nName: Categoria_Especifica, dtype: object"
     },
     "metadata": {},
     "execution_count": 311
    }
   ],
   "source": [
    "restaurantes[\"Categoria_Especifica\"].head()"
   ]
  },
  {
   "cell_type": "code",
   "execution_count": 312,
   "metadata": {},
   "outputs": [],
   "source": [
    "restaurantes['Cantidad_$']=restaurantes[\"Categoria_Especifica\"].apply(lambda x: str(x).count(\"$\")) ## Obtener conteo de $\n",
    "restaurantes[\"Categoria_Especifica\"]=restaurantes[\"Categoria_Especifica\"].apply(lambda x: str(x).replace(\"$\",\"\")) ##Borrar $"
   ]
  },
  {
   "cell_type": "markdown",
   "metadata": {},
   "source": [
    "Quedó correctamente configurada la nueva variable:"
   ]
  },
  {
   "cell_type": "code",
   "execution_count": 313,
   "metadata": {},
   "outputs": [
    {
     "output_type": "execute_result",
     "data": {
      "text/plain": "0    1\n1    2\n2    2\n3    2\n4    2\nName: Cantidad_$, dtype: int64"
     },
     "metadata": {},
     "execution_count": 313
    }
   ],
   "source": [
    "restaurantes[\"Cantidad_$\"].head()"
   ]
  },
  {
   "cell_type": "markdown",
   "metadata": {},
   "source": [
    "Ahora se procede a tratar con el caracter \"•\" , parece indicar que es el encargado de separar cuando un restaurante pertenece a múltiples categorías. Se evidencia en la siguiente celda:\n",
    "\n",
    "* Se observan registros como: \"• Asiática • Japonesa • Tailandesa • Sushi • Saludable\" , donde el carácter \"• \" separa categorías. Es importante entonces, antes de borrar dicho carácter, lograr atrapar las diferentes categorías que posee el restaurante."
   ]
  },
  {
   "cell_type": "code",
   "execution_count": 314,
   "metadata": {},
   "outputs": [
    {
     "output_type": "execute_result",
     "data": {
      "text/plain": "125                                     • Sándwich • Saludable\n130                                     • Sándwich • Saludable\n141                                    • Helado y yogur helado\n148     • Asiática • Japonesa • Tailandesa • Sushi • Saludable\n149                                                 • Asiática\n151     • Asiática • Japonesa • Tailandesa • Sushi • Saludable\nName: Categoria_Especifica, dtype: object"
     },
     "metadata": {},
     "execution_count": 314
    }
   ],
   "source": [
    "restaurantes[\"Categoria_Especifica\"][44:50] ##Mostrar evidencia"
   ]
  },
  {
   "cell_type": "markdown",
   "metadata": {},
   "source": [
    "* Haciendo uso del \" • \", se puede hacer un split de cada string con base en dicho carácter, para así guardar las categorías como una lista. Adicional a eso, se puede crear otra variable que indique el número de categorías a las que pertenece cada restaurante: "
   ]
  },
  {
   "cell_type": "code",
   "execution_count": 315,
   "metadata": {},
   "outputs": [
    {
     "output_type": "execute_result",
     "data": {
      "text/plain": "                     Nombre  Categoria_Especifica  Calificacion  Reviews  \\\n0                     Piali              [ Pizza]           4.5       33   \n1  Urban Pizzería (Armenia)              [ Pizza]           4.6       91   \n2           Mundial Pizza's              [ Pizza]           NaN     <NA>   \n3               Oeste Pizza  [ Italiana ,  Pizza]           4.5       11   \n4               Parma Pizza           [ Italiana]           4.4       31   \n\n                                                            Direccion  \\\n0  Carrera 22 #9-45, Armenia, Armenia 630003 Colombia, Armenia 110221   \n1     Av. Centenario Carrera 6, Cra 6 #8N-40, Armenia, Quindío 630004   \n2                         Av Bolívar # 19-46, Armenia, Quindio 110221   \n3                               Cra. 14a, Armenia, Quindío, Colombia,   \n4               Cra. 6 ##3180, Armenia, Quindío, Colombia, Local 220,   \n\n                                                                                               Url  \\\n0                   https://www.ubereats.com/co/armenia/food-delivery/piali/gcDAW8dkSpGFa7G-nvkehw   \n1  https://www.ubereats.com/co/armenia/food-delivery/urban-pizzeria-armenia/bVpxAzDDQ42Mv9IAvmkvtg   \n2          https://www.ubereats.com/co/armenia/food-delivery/mundial-pizzas/LtB5pxmyRNWVPjF85K4qgQ   \n3             https://www.ubereats.com/co/armenia/food-delivery/oeste-pizza/1hb90vymQFyQ_m_y8zMZ8Q   \n4             https://www.ubereats.com/co/armenia/food-delivery/parma-pizza/umiGVtjiS2uz-8QYSa3OVw   \n\n   Cantidad_$  Numero_Categorias  \n0           1                  1  \n1           2                  1  \n2           2                  1  \n3           2                  2  \n4           2                  1  ",
      "text/html": "<div>\n<style scoped>\n    .dataframe tbody tr th:only-of-type {\n        vertical-align: middle;\n    }\n\n    .dataframe tbody tr th {\n        vertical-align: top;\n    }\n\n    .dataframe thead th {\n        text-align: right;\n    }\n</style>\n<table border=\"1\" class=\"dataframe\">\n  <thead>\n    <tr style=\"text-align: right;\">\n      <th></th>\n      <th>Nombre</th>\n      <th>Categoria_Especifica</th>\n      <th>Calificacion</th>\n      <th>Reviews</th>\n      <th>Direccion</th>\n      <th>Url</th>\n      <th>Cantidad_$</th>\n      <th>Numero_Categorias</th>\n    </tr>\n  </thead>\n  <tbody>\n    <tr>\n      <th>0</th>\n      <td>Piali</td>\n      <td>[ Pizza]</td>\n      <td>4.5</td>\n      <td>33</td>\n      <td>Carrera 22 #9-45, Armenia, Armenia 630003 Colombia, Armenia 110221</td>\n      <td>https://www.ubereats.com/co/armenia/food-delivery/piali/gcDAW8dkSpGFa7G-nvkehw</td>\n      <td>1</td>\n      <td>1</td>\n    </tr>\n    <tr>\n      <th>1</th>\n      <td>Urban Pizzería (Armenia)</td>\n      <td>[ Pizza]</td>\n      <td>4.6</td>\n      <td>91</td>\n      <td>Av. Centenario Carrera 6, Cra 6 #8N-40, Armenia, Quindío 630004</td>\n      <td>https://www.ubereats.com/co/armenia/food-delivery/urban-pizzeria-armenia/bVpxAzDDQ42Mv9IAvmkvtg</td>\n      <td>2</td>\n      <td>1</td>\n    </tr>\n    <tr>\n      <th>2</th>\n      <td>Mundial Pizza's</td>\n      <td>[ Pizza]</td>\n      <td>NaN</td>\n      <td>&lt;NA&gt;</td>\n      <td>Av Bolívar # 19-46, Armenia, Quindio 110221</td>\n      <td>https://www.ubereats.com/co/armenia/food-delivery/mundial-pizzas/LtB5pxmyRNWVPjF85K4qgQ</td>\n      <td>2</td>\n      <td>1</td>\n    </tr>\n    <tr>\n      <th>3</th>\n      <td>Oeste Pizza</td>\n      <td>[ Italiana ,  Pizza]</td>\n      <td>4.5</td>\n      <td>11</td>\n      <td>Cra. 14a, Armenia, Quindío, Colombia,</td>\n      <td>https://www.ubereats.com/co/armenia/food-delivery/oeste-pizza/1hb90vymQFyQ_m_y8zMZ8Q</td>\n      <td>2</td>\n      <td>2</td>\n    </tr>\n    <tr>\n      <th>4</th>\n      <td>Parma Pizza</td>\n      <td>[ Italiana]</td>\n      <td>4.4</td>\n      <td>31</td>\n      <td>Cra. 6 ##3180, Armenia, Quindío, Colombia, Local 220,</td>\n      <td>https://www.ubereats.com/co/armenia/food-delivery/parma-pizza/umiGVtjiS2uz-8QYSa3OVw</td>\n      <td>2</td>\n      <td>1</td>\n    </tr>\n  </tbody>\n</table>\n</div>"
     },
     "metadata": {},
     "execution_count": 315
    }
   ],
   "source": [
    "restaurantes[\"Categoria_Especifica\"]=restaurantes[\"Categoria_Especifica\"].apply(lambda x: str(x).strip().split(\"•\")[1:]) ## Hacer un split con base en el carácter, obtener desde la segunda hasta la última posición (la primera es vacío)\n",
    "restaurantes[\"Numero_Categorias\"]=restaurantes[\"Categoria_Especifica\"].apply(lambda x: len(x)) ##Obtener el tamaño de cada lista\n",
    "restaurantes.head()"
   ]
  },
  {
   "cell_type": "markdown",
   "metadata": {},
   "source": [
    "* URL:\n",
    "La URL no necesita ninguna corrección, solo se usará para obtener el nombre de la ciudad donde está el restaurante. Dicho nombre de la ciudad está explicito en la URL. Se almacenará dicha ciudad en una nueva variable ciudad. Para lograr esto se hará un juego con el string de la URL, conocida ya su estructura:"
   ]
  },
  {
   "cell_type": "code",
   "execution_count": 316,
   "metadata": {},
   "outputs": [
    {
     "output_type": "execute_result",
     "data": {
      "text/plain": "                     Nombre Categoria_Especifica  Calificacion  Reviews  \\\n0                     Piali             [ Pizza]           4.5       33   \n1  Urban Pizzería (Armenia)             [ Pizza]           4.6       91   \n2           Mundial Pizza's             [ Pizza]           NaN     <NA>   \n\n                                                            Direccion  \\\n0  Carrera 22 #9-45, Armenia, Armenia 630003 Colombia, Armenia 110221   \n1     Av. Centenario Carrera 6, Cra 6 #8N-40, Armenia, Quindío 630004   \n2                         Av Bolívar # 19-46, Armenia, Quindio 110221   \n\n                                                                                               Url  \\\n0                   https://www.ubereats.com/co/armenia/food-delivery/piali/gcDAW8dkSpGFa7G-nvkehw   \n1  https://www.ubereats.com/co/armenia/food-delivery/urban-pizzeria-armenia/bVpxAzDDQ42Mv9IAvmkvtg   \n2          https://www.ubereats.com/co/armenia/food-delivery/mundial-pizzas/LtB5pxmyRNWVPjF85K4qgQ   \n\n   Cantidad_$  Numero_Categorias   Ciudad  \n0           1                  1  Armenia  \n1           2                  1  Armenia  \n2           2                  1  Armenia  ",
      "text/html": "<div>\n<style scoped>\n    .dataframe tbody tr th:only-of-type {\n        vertical-align: middle;\n    }\n\n    .dataframe tbody tr th {\n        vertical-align: top;\n    }\n\n    .dataframe thead th {\n        text-align: right;\n    }\n</style>\n<table border=\"1\" class=\"dataframe\">\n  <thead>\n    <tr style=\"text-align: right;\">\n      <th></th>\n      <th>Nombre</th>\n      <th>Categoria_Especifica</th>\n      <th>Calificacion</th>\n      <th>Reviews</th>\n      <th>Direccion</th>\n      <th>Url</th>\n      <th>Cantidad_$</th>\n      <th>Numero_Categorias</th>\n      <th>Ciudad</th>\n    </tr>\n  </thead>\n  <tbody>\n    <tr>\n      <th>0</th>\n      <td>Piali</td>\n      <td>[ Pizza]</td>\n      <td>4.5</td>\n      <td>33</td>\n      <td>Carrera 22 #9-45, Armenia, Armenia 630003 Colombia, Armenia 110221</td>\n      <td>https://www.ubereats.com/co/armenia/food-delivery/piali/gcDAW8dkSpGFa7G-nvkehw</td>\n      <td>1</td>\n      <td>1</td>\n      <td>Armenia</td>\n    </tr>\n    <tr>\n      <th>1</th>\n      <td>Urban Pizzería (Armenia)</td>\n      <td>[ Pizza]</td>\n      <td>4.6</td>\n      <td>91</td>\n      <td>Av. Centenario Carrera 6, Cra 6 #8N-40, Armenia, Quindío 630004</td>\n      <td>https://www.ubereats.com/co/armenia/food-delivery/urban-pizzeria-armenia/bVpxAzDDQ42Mv9IAvmkvtg</td>\n      <td>2</td>\n      <td>1</td>\n      <td>Armenia</td>\n    </tr>\n    <tr>\n      <th>2</th>\n      <td>Mundial Pizza's</td>\n      <td>[ Pizza]</td>\n      <td>NaN</td>\n      <td>&lt;NA&gt;</td>\n      <td>Av Bolívar # 19-46, Armenia, Quindio 110221</td>\n      <td>https://www.ubereats.com/co/armenia/food-delivery/mundial-pizzas/LtB5pxmyRNWVPjF85K4qgQ</td>\n      <td>2</td>\n      <td>1</td>\n      <td>Armenia</td>\n    </tr>\n  </tbody>\n</table>\n</div>"
     },
     "metadata": {},
     "execution_count": 316
    }
   ],
   "source": [
    "restaurantes[\"Ciudad\"]=restaurantes[\"Url\"].apply(lambda a: a[a.index(\"/co/\"):a.index(\"/food-\")].split(\"/\")[2].capitalize() )\n",
    "##Obtener la ciudad, jugando con los indices de la estructura de texto conocida\n",
    "restaurantes.head(3)\n"
   ]
  },
  {
   "cell_type": "code",
   "execution_count": 317,
   "metadata": {},
   "outputs": [],
   "source": [
    "restaurantes=restaurantes[[\"Nombre\",\"Ciudad\",\"Categoria_Especifica\",\"Numero_Categorias\",\"Cantidad_$\",\"Calificacion\",\"Reviews\",\"Direccion\",\"Url\"]]"
   ]
  },
  {
   "cell_type": "code",
   "execution_count": 318,
   "metadata": {},
   "outputs": [
    {
     "output_type": "execute_result",
     "data": {
      "text/plain": "                     Nombre   Ciudad Categoria_Especifica  Numero_Categorias  \\\n0                     Piali  Armenia             [ Pizza]                  1   \n1  Urban Pizzería (Armenia)  Armenia             [ Pizza]                  1   \n2           Mundial Pizza's  Armenia             [ Pizza]                  1   \n\n   Cantidad_$  Calificacion  Reviews  \\\n0           1           4.5       33   \n1           2           4.6       91   \n2           2           NaN     <NA>   \n\n                                                            Direccion  \\\n0  Carrera 22 #9-45, Armenia, Armenia 630003 Colombia, Armenia 110221   \n1     Av. Centenario Carrera 6, Cra 6 #8N-40, Armenia, Quindío 630004   \n2                         Av Bolívar # 19-46, Armenia, Quindio 110221   \n\n                                                                                               Url  \n0                   https://www.ubereats.com/co/armenia/food-delivery/piali/gcDAW8dkSpGFa7G-nvkehw  \n1  https://www.ubereats.com/co/armenia/food-delivery/urban-pizzeria-armenia/bVpxAzDDQ42Mv9IAvmkvtg  \n2          https://www.ubereats.com/co/armenia/food-delivery/mundial-pizzas/LtB5pxmyRNWVPjF85K4qgQ  ",
      "text/html": "<div>\n<style scoped>\n    .dataframe tbody tr th:only-of-type {\n        vertical-align: middle;\n    }\n\n    .dataframe tbody tr th {\n        vertical-align: top;\n    }\n\n    .dataframe thead th {\n        text-align: right;\n    }\n</style>\n<table border=\"1\" class=\"dataframe\">\n  <thead>\n    <tr style=\"text-align: right;\">\n      <th></th>\n      <th>Nombre</th>\n      <th>Ciudad</th>\n      <th>Categoria_Especifica</th>\n      <th>Numero_Categorias</th>\n      <th>Cantidad_$</th>\n      <th>Calificacion</th>\n      <th>Reviews</th>\n      <th>Direccion</th>\n      <th>Url</th>\n    </tr>\n  </thead>\n  <tbody>\n    <tr>\n      <th>0</th>\n      <td>Piali</td>\n      <td>Armenia</td>\n      <td>[ Pizza]</td>\n      <td>1</td>\n      <td>1</td>\n      <td>4.5</td>\n      <td>33</td>\n      <td>Carrera 22 #9-45, Armenia, Armenia 630003 Colombia, Armenia 110221</td>\n      <td>https://www.ubereats.com/co/armenia/food-delivery/piali/gcDAW8dkSpGFa7G-nvkehw</td>\n    </tr>\n    <tr>\n      <th>1</th>\n      <td>Urban Pizzería (Armenia)</td>\n      <td>Armenia</td>\n      <td>[ Pizza]</td>\n      <td>1</td>\n      <td>2</td>\n      <td>4.6</td>\n      <td>91</td>\n      <td>Av. Centenario Carrera 6, Cra 6 #8N-40, Armenia, Quindío 630004</td>\n      <td>https://www.ubereats.com/co/armenia/food-delivery/urban-pizzeria-armenia/bVpxAzDDQ42Mv9IAvmkvtg</td>\n    </tr>\n    <tr>\n      <th>2</th>\n      <td>Mundial Pizza's</td>\n      <td>Armenia</td>\n      <td>[ Pizza]</td>\n      <td>1</td>\n      <td>2</td>\n      <td>NaN</td>\n      <td>&lt;NA&gt;</td>\n      <td>Av Bolívar # 19-46, Armenia, Quindio 110221</td>\n      <td>https://www.ubereats.com/co/armenia/food-delivery/mundial-pizzas/LtB5pxmyRNWVPjF85K4qgQ</td>\n    </tr>\n  </tbody>\n</table>\n</div>"
     },
     "metadata": {},
     "execution_count": 318
    }
   ],
   "source": [
    "restaurantes.reset_index(inplace=True) ##Organizar indices del dataset\n",
    "restaurantes.drop(\"index\",axis=1,inplace=True) #borrar indice viejo\n",
    "restaurantes.head(3) ##Muestradefinitiva. \n",
    "\n"
   ]
  },
  {
   "cell_type": "code",
   "execution_count": 322,
   "metadata": {},
   "outputs": [],
   "source": [
    "restaurantes.to_excel('Colombia_Limpios.xlsx', encoding='utf-8')"
   ]
  }
 ],
 "metadata": {
  "language_info": {
   "codemirror_mode": {
    "name": "ipython",
    "version": 3
   },
   "file_extension": ".py",
   "mimetype": "text/x-python",
   "name": "python",
   "nbconvert_exporter": "python",
   "pygments_lexer": "ipython3",
   "version": "3.8.3-final"
  },
  "orig_nbformat": 2,
  "kernelspec": {
   "name": "python3",
   "display_name": "Python 3"
  }
 },
 "nbformat": 4,
 "nbformat_minor": 2
}