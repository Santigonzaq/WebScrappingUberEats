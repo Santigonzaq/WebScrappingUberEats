{
 "cells": [
  {
   "cell_type": "code",
   "execution_count": 27,
   "metadata": {},
   "outputs": [],
   "source": [
    "import pandas as pd\n",
    "import numpy as np \n",
    "pd.options.display.max_colwidth = 100"
   ]
  },
  {
   "cell_type": "markdown",
   "metadata": {},
   "source": [
    "### RESTAURANTES UBER EATS ECUADOR. SCRAPPEADOS: 9 JUNIO 2020 4-5 PM."
   ]
  },
  {
   "cell_type": "markdown",
   "metadata": {},
   "source": [
    "### Se carga la lista de restaurantes scrappeados:"
   ]
  },
  {
   "cell_type": "code",
   "execution_count": 28,
   "metadata": {},
   "outputs": [],
   "source": [
    "restaurantes=pd.read_csv(\"restaurantes_ecuador09062020pm.csv\")"
   ]
  },
  {
   "cell_type": "code",
   "execution_count": 29,
   "metadata": {},
   "outputs": [
    {
     "output_type": "stream",
     "name": "stdout",
     "text": "Se tienen:  2425  restaurantes\n"
    }
   ],
   "source": [
    "print(\"Se tienen: \", len(restaurantes), \" restaurantes\")"
   ]
  },
  {
   "cell_type": "code",
   "execution_count": 30,
   "metadata": {},
   "outputs": [
    {
     "output_type": "execute_result",
     "data": {
      "text/plain": "   Unnamed: 0                        Nombre  \\\n0           0                    Cafe Ibiza   \n1           1     Buffalos (Paseo Shopping)   \n2           2                 El Parrillero   \n3           3               La Vacona Grill   \n4           4  Buffalos (Mall de los Andes)   \n\n                 Categoria_Especifica  Calificacion Reviews  \\\n0                      $$ • Cafetería           NaN     NaN   \n1                                  $$           NaN     NaN   \n2                             $ • BBQ           NaN     NaN   \n3  $$ • BBQ • Opciones para alérgicos           NaN     NaN   \n4                    $$ • Pollo • BBQ           NaN     NaN   \n\n                                                      Direccion  \\\n0  Café Ibiza (Downtown ~ Ambato), Tungurahua • Más información   \n1        El Paseo Shopping Ambato, Tungurahua • Más información   \n2                    Ambato 180202, Ecuador,  • Más información   \n3  La Vacona Grill, Ambato, Tungurahua 180103 • Más información   \n4   Mall Los Andes, Ambato, Tungurahua 180207 • Más información   \n\n                                                                                                  Url  \n0                  https://www.ubereats.com/ec/ambato/food-delivery/cafe-ibiza/n0vldW1hS12fOXRReaZ6AA  \n1     https://www.ubereats.com/ec/ambato/food-delivery/buffalos-paseo-shopping/_LUVReTgQlSVVCMtlWrG6A  \n2               https://www.ubereats.com/ec/ambato/food-delivery/el-parrillero/bNgI8lKvRjmKCRBUIVQFyA  \n3             https://www.ubereats.com/ec/ambato/food-delivery/la-vacona-grill/ouxlYUN2Seik5AZgC3RqEg  \n4  https://www.ubereats.com/ec/ambato/food-delivery/buffalos-mall-de-los-andes/TWtrQsbgQpuc5HKmt7SYMA  ",
      "text/html": "<div>\n<style scoped>\n    .dataframe tbody tr th:only-of-type {\n        vertical-align: middle;\n    }\n\n    .dataframe tbody tr th {\n        vertical-align: top;\n    }\n\n    .dataframe thead th {\n        text-align: right;\n    }\n</style>\n<table border=\"1\" class=\"dataframe\">\n  <thead>\n    <tr style=\"text-align: right;\">\n      <th></th>\n      <th>Unnamed: 0</th>\n      <th>Nombre</th>\n      <th>Categoria_Especifica</th>\n      <th>Calificacion</th>\n      <th>Reviews</th>\n      <th>Direccion</th>\n      <th>Url</th>\n    </tr>\n  </thead>\n  <tbody>\n    <tr>\n      <th>0</th>\n      <td>0</td>\n      <td>Cafe Ibiza</td>\n      <td>$$ • Cafetería</td>\n      <td>NaN</td>\n      <td>NaN</td>\n      <td>Café Ibiza (Downtown ~ Ambato), Tungurahua • Más información</td>\n      <td>https://www.ubereats.com/ec/ambato/food-delivery/cafe-ibiza/n0vldW1hS12fOXRReaZ6AA</td>\n    </tr>\n    <tr>\n      <th>1</th>\n      <td>1</td>\n      <td>Buffalos (Paseo Shopping)</td>\n      <td>$$</td>\n      <td>NaN</td>\n      <td>NaN</td>\n      <td>El Paseo Shopping Ambato, Tungurahua • Más información</td>\n      <td>https://www.ubereats.com/ec/ambato/food-delivery/buffalos-paseo-shopping/_LUVReTgQlSVVCMtlWrG6A</td>\n    </tr>\n    <tr>\n      <th>2</th>\n      <td>2</td>\n      <td>El Parrillero</td>\n      <td>$ • BBQ</td>\n      <td>NaN</td>\n      <td>NaN</td>\n      <td>Ambato 180202, Ecuador,  • Más información</td>\n      <td>https://www.ubereats.com/ec/ambato/food-delivery/el-parrillero/bNgI8lKvRjmKCRBUIVQFyA</td>\n    </tr>\n    <tr>\n      <th>3</th>\n      <td>3</td>\n      <td>La Vacona Grill</td>\n      <td>$$ • BBQ • Opciones para alérgicos</td>\n      <td>NaN</td>\n      <td>NaN</td>\n      <td>La Vacona Grill, Ambato, Tungurahua 180103 • Más información</td>\n      <td>https://www.ubereats.com/ec/ambato/food-delivery/la-vacona-grill/ouxlYUN2Seik5AZgC3RqEg</td>\n    </tr>\n    <tr>\n      <th>4</th>\n      <td>4</td>\n      <td>Buffalos (Mall de los Andes)</td>\n      <td>$$ • Pollo • BBQ</td>\n      <td>NaN</td>\n      <td>NaN</td>\n      <td>Mall Los Andes, Ambato, Tungurahua 180207 • Más información</td>\n      <td>https://www.ubereats.com/ec/ambato/food-delivery/buffalos-mall-de-los-andes/TWtrQsbgQpuc5HKmt7SYMA</td>\n    </tr>\n  </tbody>\n</table>\n</div>"
     },
     "metadata": {},
     "execution_count": 30
    }
   ],
   "source": [
    "restaurantes.head()"
   ]
  },
  {
   "cell_type": "markdown",
   "metadata": {},
   "source": [
    "### Existen resturantes que figuran en varias categorías generales, y tendrán registros duplicados, se eliminan:"
   ]
  },
  {
   "cell_type": "code",
   "execution_count": 31,
   "metadata": {},
   "outputs": [],
   "source": [
    "restaurantes.drop(\"Unnamed: 0\" ,axis=1, inplace=True) ##Borrar columna innecesaria que proviene de la extracción.\n",
    "restaurantes.drop_duplicates(keep=\"first\",inplace=True) ## Borrar duplicados"
   ]
  },
  {
   "cell_type": "markdown",
   "metadata": {},
   "source": [
    "### Se obtienen finalmente 1202 restaurantes diferentes"
   ]
  },
  {
   "cell_type": "code",
   "execution_count": 32,
   "metadata": {},
   "outputs": [
    {
     "output_type": "execute_result",
     "data": {
      "text/plain": "(1202, 6)"
     },
     "metadata": {},
     "execution_count": 32
    }
   ],
   "source": [
    "restaurantes.shape ##Tamaño del dataset"
   ]
  },
  {
   "cell_type": "markdown",
   "metadata": {},
   "source": [
    "### Variables:"
   ]
  },
  {
   "cell_type": "code",
   "execution_count": 33,
   "metadata": {},
   "outputs": [
    {
     "output_type": "execute_result",
     "data": {
      "text/plain": "Index(['Nombre', 'Categoria_Especifica', 'Calificacion', 'Reviews',\n       'Direccion', 'Url'],\n      dtype='object')"
     },
     "metadata": {},
     "execution_count": 33
    }
   ],
   "source": [
    "restaurantes.columns ##Columnas"
   ]
  },
  {
   "cell_type": "markdown",
   "metadata": {},
   "source": [
    "### * NOMBRE: \n",
    "Nombre con el cuál se identifica el restaurante en la página. (String)\n",
    "### * CATEGORIA_ ESPECIFICA:\n",
    " Diferentes categorías en las cuales se puede ubicar el restaurante. Puede ser multivaluado. Es necesario hacer una limpieza, ya que los datos vienen sucios. (string)\n",
    "\n",
    "### * CALIFICACIÓN: \n",
    "Puntuación que reporta la página para el restaurante. (float)\n",
    "\n",
    "### * REVIEWS: \n",
    "Número de reviews que presenta la página para el restaurante. Es necesario hacer limpieza, ya que viene con caracteres sucios. (String)\n",
    "\n",
    "### * Dirección:\n",
    " Ubicación que reporta la página para el restaurante. Es necesario hacer limpieza, ya que viene con datos sucios.\n",
    "\n",
    "### * URL: \n",
    "URL exacta con la cuál se identifica el restaurante en la página.\n",
    "\n",
    "\n",
    "### Se observa el dtypes:"
   ]
  },
  {
   "cell_type": "code",
   "execution_count": 34,
   "metadata": {},
   "outputs": [
    {
     "output_type": "stream",
     "name": "stdout",
     "text": "Tipos de datos: \n"
    },
    {
     "output_type": "execute_result",
     "data": {
      "text/plain": "Nombre                   object\nCategoria_Especifica     object\nCalificacion            float64\nReviews                  object\nDireccion                object\nUrl                      object\ndtype: object"
     },
     "metadata": {},
     "execution_count": 34
    }
   ],
   "source": [
    "print(\"Tipos de datos: \") \n",
    "restaurantes.dtypes ##Tipos de las variables"
   ]
  },
  {
   "cell_type": "markdown",
   "metadata": {},
   "source": [
    "### Buscar valores faltantes: "
   ]
  },
  {
   "cell_type": "code",
   "execution_count": 35,
   "metadata": {},
   "outputs": [
    {
     "output_type": "stream",
     "name": "stdout",
     "text": "Datos faltantes por cada variable: \n"
    },
    {
     "output_type": "execute_result",
     "data": {
      "text/plain": "Nombre                    0\nCategoria_Especifica      6\nCalificacion            604\nReviews                 604\nDireccion                 0\nUrl                       0\ndtype: int64"
     },
     "metadata": {},
     "execution_count": 35
    }
   ],
   "source": [
    "print(\"Datos faltantes por cada variable: \")\n",
    "restaurantes.isna().sum() ##Mostrar faltantes por variable"
   ]
  },
  {
   "cell_type": "markdown",
   "metadata": {},
   "source": [
    "### CALIFICACIÓN Y REVIEWS FALTANTES:\n",
    " La mayor cantidad de los faltantes en los registros, está en calificación y número de reviews. Esto es porque la mayor parte de los restaurantes cuando están cerrados ocultan su calificación y número de reviews. Adicional a eso, cuando un restaurante es nuevo en la página, tampoco reporta calificación y reviews. Finalmente, dada la situación actual (covid), muchos restaurantes no están operando y salen no disponibles en la plataforma; por ende, ocultan su información de calificación y reviews.\n",
    "\n",
    "### RESTO DE VARIABLES FALTANTES:\n",
    "El resto de variables faltantes en los registros, que son muy pocas, es porque el restaurante no tenía la información disponible."
   ]
  },
  {
   "cell_type": "markdown",
   "metadata": {},
   "source": []
  },
  {
   "cell_type": "markdown",
   "metadata": {},
   "source": [
    "### LIMPIEZA DE DATOS:\n",
    "\n",
    "#### * DIRECCIÓN:"
   ]
  },
  {
   "cell_type": "code",
   "execution_count": 36,
   "metadata": {},
   "outputs": [
    {
     "output_type": "execute_result",
     "data": {
      "text/plain": "0    Café Ibiza (Downtown ~ Ambato), Tungurahua • Más información\n1          El Paseo Shopping Ambato, Tungurahua • Más información\n2                      Ambato 180202, Ecuador,  • Más información\n3    La Vacona Grill, Ambato, Tungurahua 180103 • Más información\n4     Mall Los Andes, Ambato, Tungurahua 180207 • Más información\nName: Direccion, dtype: object"
     },
     "metadata": {},
     "execution_count": 36
    }
   ],
   "source": [
    "restaurantes[\"Direccion\"].head()"
   ]
  },
  {
   "cell_type": "markdown",
   "metadata": {},
   "source": [
    "*Se observa que tienen el string \" • Mas información\" en todos lo registros. Se procede a eliminar. Así mismo se borran espacios en blanco al comienzo y final.\n"
   ]
  },
  {
   "cell_type": "code",
   "execution_count": 37,
   "metadata": {},
   "outputs": [],
   "source": [
    "restaurantes[\"Direccion\"]=restaurantes[\"Direccion\"].apply(lambda x : str(x).replace(\"•\", \"\").replace(\"Más información\",\"\").strip()) ##Borrar string y espacios no deseados"
   ]
  },
  {
   "cell_type": "code",
   "execution_count": 38,
   "metadata": {},
   "outputs": [
    {
     "output_type": "execute_result",
     "data": {
      "text/plain": "'El Paseo Shopping Ambato, Tungurahua'"
     },
     "metadata": {},
     "execution_count": 38
    }
   ],
   "source": [
    "restaurantes[\"Direccion\"][1] ##Prueba"
   ]
  },
  {
   "cell_type": "markdown",
   "metadata": {},
   "source": [
    "### * REVIEWS:"
   ]
  },
  {
   "cell_type": "code",
   "execution_count": 39,
   "metadata": {},
   "outputs": [
    {
     "output_type": "execute_result",
     "data": {
      "text/plain": "(500+)    33\n(12)      20\n(14)      16\n(11)      16\n(15)      15\n          ..\n(389)      1\n(230)      1\n(137)      1\n(177)      1\n(126)      1\nName: Reviews, Length: 192, dtype: int64"
     },
     "metadata": {},
     "execution_count": 39
    }
   ],
   "source": [
    "restaurantes[\"Reviews\"].value_counts() ##Tipos de valores en reviews"
   ]
  },
  {
   "cell_type": "markdown",
   "metadata": {},
   "source": [
    "Se nota que hay paréntesis y signos \"+\" no deseados, pues el interes está únicamente en el valor entero. Se procede a eliminar el signo \"+\" y los parentesis. Adicional a eso, se hace la conversión a columna numérica."
   ]
  },
  {
   "cell_type": "code",
   "execution_count": 40,
   "metadata": {},
   "outputs": [],
   "source": [
    "restaurantes[\"Reviews\"]=restaurantes[\"Reviews\"].apply(lambda x : str(x).replace(\"+\", \"\").replace(\"(\",\"\").replace(\")\",\"\").strip()) ##Borrar string y espacios"
   ]
  },
  {
   "cell_type": "code",
   "execution_count": 41,
   "metadata": {},
   "outputs": [
    {
     "output_type": "stream",
     "name": "stdout",
     "text": "Int64\n"
    },
    {
     "output_type": "execute_result",
     "data": {
      "text/plain": "0    <NA>\n1    <NA>\n2    <NA>\n3    <NA>\n4    <NA>\nName: Reviews, dtype: Int64"
     },
     "metadata": {},
     "execution_count": 41
    }
   ],
   "source": [
    "restaurantes['Reviews'] = restaurantes.Reviews.astype('float').astype(\"Int64\") ##Convertir a tipo entero\n",
    "print(restaurantes[\"Reviews\"].dtype)\n",
    "restaurantes[\"Reviews\"].head()\n"
   ]
  },
  {
   "cell_type": "markdown",
   "metadata": {},
   "source": [
    "### CATEGORÍA ESPECIFICA:\n",
    "\n",
    "*Puede verse que todas los registros tienen un \" \\$ \" o \" \\$\\$ \".\n",
    " No sé sabe con seguridad lo que significa esto, pero parece importante almacenar si tiene uno o dos. Se retirarán dichos signos del registro de categoría, pero se creará otra variable que diga cuantos \"$\" tenía.\n",
    "\n",
    " *Adicional a esto, también se ve la presencia del carater \" • \""
   ]
  },
  {
   "cell_type": "code",
   "execution_count": 42,
   "metadata": {},
   "outputs": [
    {
     "output_type": "execute_result",
     "data": {
      "text/plain": "0                        $$ • Cafetería\n1                                    $$\n2                               $ • BBQ\n3    $$ • BBQ • Opciones para alérgicos\n4                      $$ • Pollo • BBQ\nName: Categoria_Especifica, dtype: object"
     },
     "metadata": {},
     "execution_count": 42
    }
   ],
   "source": [
    "restaurantes[\"Categoria_Especifica\"].head()"
   ]
  },
  {
   "cell_type": "code",
   "execution_count": 43,
   "metadata": {},
   "outputs": [],
   "source": [
    "restaurantes['Cantidad_$']=restaurantes[\"Categoria_Especifica\"].apply(lambda x: str(x).count(\"$\")) ## Obtener conteo de $\n",
    "restaurantes[\"Categoria_Especifica\"]=restaurantes[\"Categoria_Especifica\"].apply(lambda x: str(x).replace(\"$\",\"\")) ##Borrar $"
   ]
  },
  {
   "cell_type": "markdown",
   "metadata": {},
   "source": [
    "Quedó correctamente configurada la nueva variable:"
   ]
  },
  {
   "cell_type": "code",
   "execution_count": 44,
   "metadata": {},
   "outputs": [
    {
     "output_type": "execute_result",
     "data": {
      "text/plain": "0    2\n1    2\n2    1\n3    2\n4    2\nName: Cantidad_$, dtype: int64"
     },
     "metadata": {},
     "execution_count": 44
    }
   ],
   "source": [
    "restaurantes[\"Cantidad_$\"].head()"
   ]
  },
  {
   "cell_type": "markdown",
   "metadata": {},
   "source": [
    "Ahora se procede a tratar con el caracter \"•\" , parece indicar que es el encargado de separar cuando un restaurante pertenece a múltiples categorías. Se evidencia en la siguiente celda:\n",
    "\n",
    "* Se observan registros como: \"• Asiática • Japonesa • Tailandesa • Sushi • Saludable\" , donde el carácter \"• \" separa categorías. Es importante entonces, antes de borrar dicho carácter, lograr atrapar las diferentes categorías que posee el restaurante."
   ]
  },
  {
   "cell_type": "code",
   "execution_count": 45,
   "metadata": {},
   "outputs": [
    {
     "output_type": "execute_result",
     "data": {
      "text/plain": "49                          • Argentina\n50    Mariscos • Latina • Latina fusión\n51                           • Mexicana\n52                                  nan\n54                     • Pollo • Alitas\n56                              • Pollo\nName: Categoria_Especifica, dtype: object"
     },
     "metadata": {},
     "execution_count": 45
    }
   ],
   "source": [
    "restaurantes[\"Categoria_Especifica\"][44:50] ##Mostrar evidencia"
   ]
  },
  {
   "cell_type": "markdown",
   "metadata": {},
   "source": [
    "* Haciendo uso del \" • \", se puede hacer un split de cada string con base en dicho carácter, para así guardar las categorías como una lista. Adicional a eso, se puede crear otra variable que indique el número de categorías a las que pertenece cada restaurante: "
   ]
  },
  {
   "cell_type": "code",
   "execution_count": 46,
   "metadata": {},
   "outputs": [
    {
     "output_type": "execute_result",
     "data": {
      "text/plain": "                         Nombre               Categoria_Especifica  \\\n0                    Cafe Ibiza                       [ Cafetería]   \n1     Buffalos (Paseo Shopping)                                 []   \n2                 El Parrillero                             [ BBQ]   \n3               La Vacona Grill  [ BBQ ,  Opciones para alérgicos]   \n4  Buffalos (Mall de los Andes)                    [ Pollo ,  BBQ]   \n\n   Calificacion  Reviews                                   Direccion  \\\n0           NaN     <NA>  Café Ibiza (Downtown ~ Ambato), Tungurahua   \n1           NaN     <NA>        El Paseo Shopping Ambato, Tungurahua   \n2           NaN     <NA>                     Ambato 180202, Ecuador,   \n3           NaN     <NA>  La Vacona Grill, Ambato, Tungurahua 180103   \n4           NaN     <NA>   Mall Los Andes, Ambato, Tungurahua 180207   \n\n                                                                                                  Url  \\\n0                  https://www.ubereats.com/ec/ambato/food-delivery/cafe-ibiza/n0vldW1hS12fOXRReaZ6AA   \n1     https://www.ubereats.com/ec/ambato/food-delivery/buffalos-paseo-shopping/_LUVReTgQlSVVCMtlWrG6A   \n2               https://www.ubereats.com/ec/ambato/food-delivery/el-parrillero/bNgI8lKvRjmKCRBUIVQFyA   \n3             https://www.ubereats.com/ec/ambato/food-delivery/la-vacona-grill/ouxlYUN2Seik5AZgC3RqEg   \n4  https://www.ubereats.com/ec/ambato/food-delivery/buffalos-mall-de-los-andes/TWtrQsbgQpuc5HKmt7SYMA   \n\n   Cantidad_$  Numero_Categorias  \n0           2                  1  \n1           2                  0  \n2           1                  1  \n3           2                  2  \n4           2                  2  ",
      "text/html": "<div>\n<style scoped>\n    .dataframe tbody tr th:only-of-type {\n        vertical-align: middle;\n    }\n\n    .dataframe tbody tr th {\n        vertical-align: top;\n    }\n\n    .dataframe thead th {\n        text-align: right;\n    }\n</style>\n<table border=\"1\" class=\"dataframe\">\n  <thead>\n    <tr style=\"text-align: right;\">\n      <th></th>\n      <th>Nombre</th>\n      <th>Categoria_Especifica</th>\n      <th>Calificacion</th>\n      <th>Reviews</th>\n      <th>Direccion</th>\n      <th>Url</th>\n      <th>Cantidad_$</th>\n      <th>Numero_Categorias</th>\n    </tr>\n  </thead>\n  <tbody>\n    <tr>\n      <th>0</th>\n      <td>Cafe Ibiza</td>\n      <td>[ Cafetería]</td>\n      <td>NaN</td>\n      <td>&lt;NA&gt;</td>\n      <td>Café Ibiza (Downtown ~ Ambato), Tungurahua</td>\n      <td>https://www.ubereats.com/ec/ambato/food-delivery/cafe-ibiza/n0vldW1hS12fOXRReaZ6AA</td>\n      <td>2</td>\n      <td>1</td>\n    </tr>\n    <tr>\n      <th>1</th>\n      <td>Buffalos (Paseo Shopping)</td>\n      <td>[]</td>\n      <td>NaN</td>\n      <td>&lt;NA&gt;</td>\n      <td>El Paseo Shopping Ambato, Tungurahua</td>\n      <td>https://www.ubereats.com/ec/ambato/food-delivery/buffalos-paseo-shopping/_LUVReTgQlSVVCMtlWrG6A</td>\n      <td>2</td>\n      <td>0</td>\n    </tr>\n    <tr>\n      <th>2</th>\n      <td>El Parrillero</td>\n      <td>[ BBQ]</td>\n      <td>NaN</td>\n      <td>&lt;NA&gt;</td>\n      <td>Ambato 180202, Ecuador,</td>\n      <td>https://www.ubereats.com/ec/ambato/food-delivery/el-parrillero/bNgI8lKvRjmKCRBUIVQFyA</td>\n      <td>1</td>\n      <td>1</td>\n    </tr>\n    <tr>\n      <th>3</th>\n      <td>La Vacona Grill</td>\n      <td>[ BBQ ,  Opciones para alérgicos]</td>\n      <td>NaN</td>\n      <td>&lt;NA&gt;</td>\n      <td>La Vacona Grill, Ambato, Tungurahua 180103</td>\n      <td>https://www.ubereats.com/ec/ambato/food-delivery/la-vacona-grill/ouxlYUN2Seik5AZgC3RqEg</td>\n      <td>2</td>\n      <td>2</td>\n    </tr>\n    <tr>\n      <th>4</th>\n      <td>Buffalos (Mall de los Andes)</td>\n      <td>[ Pollo ,  BBQ]</td>\n      <td>NaN</td>\n      <td>&lt;NA&gt;</td>\n      <td>Mall Los Andes, Ambato, Tungurahua 180207</td>\n      <td>https://www.ubereats.com/ec/ambato/food-delivery/buffalos-mall-de-los-andes/TWtrQsbgQpuc5HKmt7SYMA</td>\n      <td>2</td>\n      <td>2</td>\n    </tr>\n  </tbody>\n</table>\n</div>"
     },
     "metadata": {},
     "execution_count": 46
    }
   ],
   "source": [
    "restaurantes[\"Categoria_Especifica\"]=restaurantes[\"Categoria_Especifica\"].apply(lambda x: str(x).strip().split(\"•\")[1:]) ## Hacer un split con base en el carácter, obtener desde la segunda hasta la última posición (la primera es vacío)\n",
    "restaurantes[\"Numero_Categorias\"]=restaurantes[\"Categoria_Especifica\"].apply(lambda x: len(x)) ##Obtener el tamaño de cada lista\n",
    "restaurantes.head()"
   ]
  },
  {
   "cell_type": "markdown",
   "metadata": {},
   "source": [
    "* URL:\n",
    "La URL no necesita ninguna corrección, solo se usará para obtener el nombre de la ciudad donde está el restaurante. Dicho nombre de la ciudad está explicito en la URL. Se almacenará dicha ciudad en una nueva variable ciudad. Para lograr esto se hará un juego con el string de la URL, conocida ya su estructura:"
   ]
  },
  {
   "cell_type": "code",
   "execution_count": 47,
   "metadata": {},
   "outputs": [
    {
     "output_type": "execute_result",
     "data": {
      "text/plain": "                      Nombre Categoria_Especifica  Calificacion  Reviews  \\\n0                 Cafe Ibiza         [ Cafetería]           NaN     <NA>   \n1  Buffalos (Paseo Shopping)                   []           NaN     <NA>   \n2              El Parrillero               [ BBQ]           NaN     <NA>   \n\n                                    Direccion  \\\n0  Café Ibiza (Downtown ~ Ambato), Tungurahua   \n1        El Paseo Shopping Ambato, Tungurahua   \n2                     Ambato 180202, Ecuador,   \n\n                                                                                               Url  \\\n0               https://www.ubereats.com/ec/ambato/food-delivery/cafe-ibiza/n0vldW1hS12fOXRReaZ6AA   \n1  https://www.ubereats.com/ec/ambato/food-delivery/buffalos-paseo-shopping/_LUVReTgQlSVVCMtlWrG6A   \n2            https://www.ubereats.com/ec/ambato/food-delivery/el-parrillero/bNgI8lKvRjmKCRBUIVQFyA   \n\n   Cantidad_$  Numero_Categorias  Ciudad  \n0           2                  1  Ambato  \n1           2                  0  Ambato  \n2           1                  1  Ambato  ",
      "text/html": "<div>\n<style scoped>\n    .dataframe tbody tr th:only-of-type {\n        vertical-align: middle;\n    }\n\n    .dataframe tbody tr th {\n        vertical-align: top;\n    }\n\n    .dataframe thead th {\n        text-align: right;\n    }\n</style>\n<table border=\"1\" class=\"dataframe\">\n  <thead>\n    <tr style=\"text-align: right;\">\n      <th></th>\n      <th>Nombre</th>\n      <th>Categoria_Especifica</th>\n      <th>Calificacion</th>\n      <th>Reviews</th>\n      <th>Direccion</th>\n      <th>Url</th>\n      <th>Cantidad_$</th>\n      <th>Numero_Categorias</th>\n      <th>Ciudad</th>\n    </tr>\n  </thead>\n  <tbody>\n    <tr>\n      <th>0</th>\n      <td>Cafe Ibiza</td>\n      <td>[ Cafetería]</td>\n      <td>NaN</td>\n      <td>&lt;NA&gt;</td>\n      <td>Café Ibiza (Downtown ~ Ambato), Tungurahua</td>\n      <td>https://www.ubereats.com/ec/ambato/food-delivery/cafe-ibiza/n0vldW1hS12fOXRReaZ6AA</td>\n      <td>2</td>\n      <td>1</td>\n      <td>Ambato</td>\n    </tr>\n    <tr>\n      <th>1</th>\n      <td>Buffalos (Paseo Shopping)</td>\n      <td>[]</td>\n      <td>NaN</td>\n      <td>&lt;NA&gt;</td>\n      <td>El Paseo Shopping Ambato, Tungurahua</td>\n      <td>https://www.ubereats.com/ec/ambato/food-delivery/buffalos-paseo-shopping/_LUVReTgQlSVVCMtlWrG6A</td>\n      <td>2</td>\n      <td>0</td>\n      <td>Ambato</td>\n    </tr>\n    <tr>\n      <th>2</th>\n      <td>El Parrillero</td>\n      <td>[ BBQ]</td>\n      <td>NaN</td>\n      <td>&lt;NA&gt;</td>\n      <td>Ambato 180202, Ecuador,</td>\n      <td>https://www.ubereats.com/ec/ambato/food-delivery/el-parrillero/bNgI8lKvRjmKCRBUIVQFyA</td>\n      <td>1</td>\n      <td>1</td>\n      <td>Ambato</td>\n    </tr>\n  </tbody>\n</table>\n</div>"
     },
     "metadata": {},
     "execution_count": 47
    }
   ],
   "source": [
    "restaurantes[\"Ciudad\"]=restaurantes[\"Url\"].apply(lambda a: a[a.index(\"/ec/\"):a.index(\"/food-\")].split(\"/\")[2].capitalize() )\n",
    "##Obtener la ciudad, jugando con los indices de la estructura de texto conocida\n",
    "restaurantes.head(3)\n"
   ]
  },
  {
   "cell_type": "code",
   "execution_count": 48,
   "metadata": {},
   "outputs": [],
   "source": [
    "restaurantes=restaurantes[[\"Nombre\",\"Ciudad\",\"Categoria_Especifica\",\"Numero_Categorias\",\"Cantidad_$\",\"Calificacion\",\"Reviews\",\"Direccion\",\"Url\"]]"
   ]
  },
  {
   "cell_type": "code",
   "execution_count": 49,
   "metadata": {},
   "outputs": [
    {
     "output_type": "execute_result",
     "data": {
      "text/plain": "                      Nombre  Ciudad Categoria_Especifica  Numero_Categorias  \\\n0                 Cafe Ibiza  Ambato         [ Cafetería]                  1   \n1  Buffalos (Paseo Shopping)  Ambato                   []                  0   \n2              El Parrillero  Ambato               [ BBQ]                  1   \n\n   Cantidad_$  Calificacion  Reviews  \\\n0           2           NaN     <NA>   \n1           2           NaN     <NA>   \n2           1           NaN     <NA>   \n\n                                    Direccion  \\\n0  Café Ibiza (Downtown ~ Ambato), Tungurahua   \n1        El Paseo Shopping Ambato, Tungurahua   \n2                     Ambato 180202, Ecuador,   \n\n                                                                                               Url  \n0               https://www.ubereats.com/ec/ambato/food-delivery/cafe-ibiza/n0vldW1hS12fOXRReaZ6AA  \n1  https://www.ubereats.com/ec/ambato/food-delivery/buffalos-paseo-shopping/_LUVReTgQlSVVCMtlWrG6A  \n2            https://www.ubereats.com/ec/ambato/food-delivery/el-parrillero/bNgI8lKvRjmKCRBUIVQFyA  ",
      "text/html": "<div>\n<style scoped>\n    .dataframe tbody tr th:only-of-type {\n        vertical-align: middle;\n    }\n\n    .dataframe tbody tr th {\n        vertical-align: top;\n    }\n\n    .dataframe thead th {\n        text-align: right;\n    }\n</style>\n<table border=\"1\" class=\"dataframe\">\n  <thead>\n    <tr style=\"text-align: right;\">\n      <th></th>\n      <th>Nombre</th>\n      <th>Ciudad</th>\n      <th>Categoria_Especifica</th>\n      <th>Numero_Categorias</th>\n      <th>Cantidad_$</th>\n      <th>Calificacion</th>\n      <th>Reviews</th>\n      <th>Direccion</th>\n      <th>Url</th>\n    </tr>\n  </thead>\n  <tbody>\n    <tr>\n      <th>0</th>\n      <td>Cafe Ibiza</td>\n      <td>Ambato</td>\n      <td>[ Cafetería]</td>\n      <td>1</td>\n      <td>2</td>\n      <td>NaN</td>\n      <td>&lt;NA&gt;</td>\n      <td>Café Ibiza (Downtown ~ Ambato), Tungurahua</td>\n      <td>https://www.ubereats.com/ec/ambato/food-delivery/cafe-ibiza/n0vldW1hS12fOXRReaZ6AA</td>\n    </tr>\n    <tr>\n      <th>1</th>\n      <td>Buffalos (Paseo Shopping)</td>\n      <td>Ambato</td>\n      <td>[]</td>\n      <td>0</td>\n      <td>2</td>\n      <td>NaN</td>\n      <td>&lt;NA&gt;</td>\n      <td>El Paseo Shopping Ambato, Tungurahua</td>\n      <td>https://www.ubereats.com/ec/ambato/food-delivery/buffalos-paseo-shopping/_LUVReTgQlSVVCMtlWrG6A</td>\n    </tr>\n    <tr>\n      <th>2</th>\n      <td>El Parrillero</td>\n      <td>Ambato</td>\n      <td>[ BBQ]</td>\n      <td>1</td>\n      <td>1</td>\n      <td>NaN</td>\n      <td>&lt;NA&gt;</td>\n      <td>Ambato 180202, Ecuador,</td>\n      <td>https://www.ubereats.com/ec/ambato/food-delivery/el-parrillero/bNgI8lKvRjmKCRBUIVQFyA</td>\n    </tr>\n  </tbody>\n</table>\n</div>"
     },
     "metadata": {},
     "execution_count": 49
    }
   ],
   "source": [
    "restaurantes.reset_index(inplace=True) ##Organizar indices del dataset\n",
    "restaurantes.drop(\"index\",axis=1,inplace=True) #borrar indice viejo\n",
    "restaurantes.head(3) ##Muestradefinitiva. \n",
    "\n"
   ]
  },
  {
   "cell_type": "code",
   "execution_count": 50,
   "metadata": {},
   "outputs": [],
   "source": [
    "restaurantes.to_excel('Ecuador_Limpios.xlsx', encoding='utf-8')"
   ]
  }
 ],
 "metadata": {
  "language_info": {
   "codemirror_mode": {
    "name": "ipython",
    "version": 3
   },
   "file_extension": ".py",
   "mimetype": "text/x-python",
   "name": "python",
   "nbconvert_exporter": "python",
   "pygments_lexer": "ipython3",
   "version": "3.8.3-final"
  },
  "orig_nbformat": 2,
  "kernelspec": {
   "name": "python3",
   "display_name": "Python 3"
  }
 },
 "nbformat": 4,
 "nbformat_minor": 2
}