{
 "cells": [
  {
   "cell_type": "code",
   "execution_count": 98,
   "metadata": {},
   "outputs": [],
   "source": [
    "import pandas as pd\n",
    "import numpy as np \n",
    "pd.options.display.max_colwidth = 100"
   ]
  },
  {
   "cell_type": "markdown",
   "metadata": {},
   "source": [
    "### Se carga la lista de restaurantes scrappeados:"
   ]
  },
  {
   "cell_type": "code",
   "execution_count": 99,
   "metadata": {},
   "outputs": [],
   "source": [
    "restaurantes=pd.read_csv(\"restaurantes_08062020pm.csv\")"
   ]
  },
  {
   "cell_type": "code",
   "execution_count": 100,
   "metadata": {},
   "outputs": [
    {
     "output_type": "stream",
     "name": "stdout",
     "text": "Se tienen:  2448  restaurantes\n"
    }
   ],
   "source": [
    "print(\"Se tienen: \", len(restaurantes), \" restaurantes\")"
   ]
  },
  {
   "cell_type": "code",
   "execution_count": 101,
   "metadata": {},
   "outputs": [
    {
     "output_type": "execute_result",
     "data": {
      "text/plain": "   Unnamed: 0                                  Nombre Categoria_Especifica  \\\n0           0                                  Versus   $$ • Comida rápida   \n1           1  Don Jacobo Postres y Ponques - Armenia          $ • Postres   \n2           2                        Le Ricette Pizza        $$ • Italiana   \n3           3                                  Versus   $$ • Comida rápida   \n4           4  Don Jacobo Postres y Ponques - Armenia          $ • Postres   \n\n   Calificacion Reviews  \\\n0           4.3    (34)   \n1           4.8    (52)   \n2           NaN     NaN   \n3           4.3    (34)   \n4           4.8    (52)   \n\n                                                                             Direccion  \\\n0                                 Carrera 13# 8n -39, Quindío 630003 • Más información   \n1  Cra. 14 No. 9 Norte-69, Av. Bolivar, Armenia, Quindío, Colombia,  • Más información   \n2               630001 Cra. 6 #13n-27 Local, Armenia, Quindío 630004 • Más información   \n3                                 Carrera 13# 8n -39, Quindío 630003 • Más información   \n4  Cra. 14 No. 9 Norte-69, Av. Bolivar, Armenia, Quindío, Colombia,  • Más información   \n\n                                                                                                   Url  \n0                      https://www.ubereats.com/co/armenia/food-delivery/versus/UhZCYICBSu2cwJoiF5kfHQ  \n1  https://www.ubereats.com/co/armenia/food-delivery/don-jacobo-postres-y-ponques-armenia/vhYajc-nS...  \n2            https://www.ubereats.com/co/armenia/food-delivery/le-ricette-pizza/GNCrqZHSTpSS5JYo3Q_h2w  \n3                      https://www.ubereats.com/co/armenia/food-delivery/versus/UhZCYICBSu2cwJoiF5kfHQ  \n4  https://www.ubereats.com/co/armenia/food-delivery/don-jacobo-postres-y-ponques-armenia/vhYajc-nS...  ",
      "text/html": "<div>\n<style scoped>\n    .dataframe tbody tr th:only-of-type {\n        vertical-align: middle;\n    }\n\n    .dataframe tbody tr th {\n        vertical-align: top;\n    }\n\n    .dataframe thead th {\n        text-align: right;\n    }\n</style>\n<table border=\"1\" class=\"dataframe\">\n  <thead>\n    <tr style=\"text-align: right;\">\n      <th></th>\n      <th>Unnamed: 0</th>\n      <th>Nombre</th>\n      <th>Categoria_Especifica</th>\n      <th>Calificacion</th>\n      <th>Reviews</th>\n      <th>Direccion</th>\n      <th>Url</th>\n    </tr>\n  </thead>\n  <tbody>\n    <tr>\n      <th>0</th>\n      <td>0</td>\n      <td>Versus</td>\n      <td>$$ • Comida rápida</td>\n      <td>4.3</td>\n      <td>(34)</td>\n      <td>Carrera 13# 8n -39, Quindío 630003 • Más información</td>\n      <td>https://www.ubereats.com/co/armenia/food-delivery/versus/UhZCYICBSu2cwJoiF5kfHQ</td>\n    </tr>\n    <tr>\n      <th>1</th>\n      <td>1</td>\n      <td>Don Jacobo Postres y Ponques - Armenia</td>\n      <td>$ • Postres</td>\n      <td>4.8</td>\n      <td>(52)</td>\n      <td>Cra. 14 No. 9 Norte-69, Av. Bolivar, Armenia, Quindío, Colombia,  • Más información</td>\n      <td>https://www.ubereats.com/co/armenia/food-delivery/don-jacobo-postres-y-ponques-armenia/vhYajc-nS...</td>\n    </tr>\n    <tr>\n      <th>2</th>\n      <td>2</td>\n      <td>Le Ricette Pizza</td>\n      <td>$$ • Italiana</td>\n      <td>NaN</td>\n      <td>NaN</td>\n      <td>630001 Cra. 6 #13n-27 Local, Armenia, Quindío 630004 • Más información</td>\n      <td>https://www.ubereats.com/co/armenia/food-delivery/le-ricette-pizza/GNCrqZHSTpSS5JYo3Q_h2w</td>\n    </tr>\n    <tr>\n      <th>3</th>\n      <td>3</td>\n      <td>Versus</td>\n      <td>$$ • Comida rápida</td>\n      <td>4.3</td>\n      <td>(34)</td>\n      <td>Carrera 13# 8n -39, Quindío 630003 • Más información</td>\n      <td>https://www.ubereats.com/co/armenia/food-delivery/versus/UhZCYICBSu2cwJoiF5kfHQ</td>\n    </tr>\n    <tr>\n      <th>4</th>\n      <td>4</td>\n      <td>Don Jacobo Postres y Ponques - Armenia</td>\n      <td>$ • Postres</td>\n      <td>4.8</td>\n      <td>(52)</td>\n      <td>Cra. 14 No. 9 Norte-69, Av. Bolivar, Armenia, Quindío, Colombia,  • Más información</td>\n      <td>https://www.ubereats.com/co/armenia/food-delivery/don-jacobo-postres-y-ponques-armenia/vhYajc-nS...</td>\n    </tr>\n  </tbody>\n</table>\n</div>"
     },
     "metadata": {},
     "execution_count": 101
    }
   ],
   "source": [
    "restaurantes.head()"
   ]
  },
  {
   "cell_type": "markdown",
   "metadata": {},
   "source": [
    "### Existen resturantes que figuran en varias categorías generales, y tendrán registros duplicados, se eliminan:"
   ]
  },
  {
   "cell_type": "code",
   "execution_count": 102,
   "metadata": {},
   "outputs": [],
   "source": [
    "restaurantes.drop(\"Unnamed: 0\" ,axis=1, inplace=True)\n",
    "restaurantes.drop_duplicates(keep=\"first\",inplace=True)"
   ]
  },
  {
   "cell_type": "markdown",
   "metadata": {},
   "source": [
    "### Variables:"
   ]
  },
  {
   "cell_type": "code",
   "execution_count": 103,
   "metadata": {},
   "outputs": [
    {
     "output_type": "execute_result",
     "data": {
      "text/plain": "Index(['Nombre', 'Categoria_Especifica', 'Calificacion', 'Reviews',\n       'Direccion', 'Url'],\n      dtype='object')"
     },
     "metadata": {},
     "execution_count": 103
    }
   ],
   "source": [
    "restaurantes.columns"
   ]
  },
  {
   "cell_type": "markdown",
   "metadata": {},
   "source": [
    "### * NOMBRE: \n",
    "Nombre con el cuál se identifica el restaurante en la página. (String)\n",
    "### * CATEGORIA_ ESPECIFICA:\n",
    " Diferentes categorías en las cuales se puede ubicar el restaurante. Puede ser multivaluado. Es necesario hacer una limpieza, ya que los datos vienen sucios. (string)\n",
    "\n",
    "### * CALIFICACIÓN: \n",
    "Puntuación que reporta la página para el restaurante. (float)\n",
    "\n",
    "### * REVIEWS: \n",
    "Número de reviews que presenta la página para el restaurante. Es necesario hacer limpieza, ya que viene con caracteres sucios. (String)\n",
    "\n",
    "### * Dirección:\n",
    " Ubicación que reporta la página para el restaurante. Es necesario hacer limpieza, ya que viene con datos sucios.\n",
    "\n",
    "### * URL: \n",
    "URL exacta con la cuál se identifica el restaurante en la página.\n",
    "\n",
    "\n",
    "### Se observa el dtypes:"
   ]
  },
  {
   "cell_type": "code",
   "execution_count": 104,
   "metadata": {},
   "outputs": [
    {
     "output_type": "stream",
     "name": "stdout",
     "text": "Tipos de datos: \n"
    },
    {
     "output_type": "execute_result",
     "data": {
      "text/plain": "Nombre                   object\nCategoria_Especifica     object\nCalificacion            float64\nReviews                  object\nDireccion                object\nUrl                      object\ndtype: object"
     },
     "metadata": {},
     "execution_count": 104
    }
   ],
   "source": [
    "print(\"Tipos de datos: \") \n",
    "restaurantes.dtypes"
   ]
  },
  {
   "cell_type": "markdown",
   "metadata": {},
   "source": [
    "### Buscar valores faltantes: "
   ]
  },
  {
   "cell_type": "code",
   "execution_count": 105,
   "metadata": {},
   "outputs": [
    {
     "output_type": "execute_result",
     "data": {
      "text/plain": "Nombre                    0\nCategoria_Especifica      1\nCalificacion            587\nReviews                 587\nDireccion                 2\nUrl                       0\ndtype: int64"
     },
     "metadata": {},
     "execution_count": 105
    }
   ],
   "source": [
    "restaurantes.isna().sum()"
   ]
  },
  {
   "cell_type": "markdown",
   "metadata": {},
   "source": [
    "### CALIFICACIÓN Y REVIEWS FALTANTES:\n",
    " La mayor cantidad de los faltantes en los registros, está en calificación y número de reviews. Esto es porque la mayor parte de los restaurantes cuando están cerrados ocultan su calificación y número de reviews. Adicional a eso, cuando un restaurante es nuevo en la página, tampoco reporta calificación y reviews. Es importante correr el algoritmo en el momento del día que la mayor parte de los restaurantes esté abierto.\n",
    "\n",
    "### RESTO DE VARIABLES FALTANTES:\n",
    "El resto de variables faltantes en los registros, que son muy pocas, es porque el restaurante no tenía la información disponible."
   ]
  },
  {
   "cell_type": "markdown",
   "metadata": {},
   "source": []
  },
  {
   "cell_type": "markdown",
   "metadata": {},
   "source": [
    "### LIMPIEZA DE DATOS:\n",
    "\n",
    "#### * DIRECCIÓN:"
   ]
  },
  {
   "cell_type": "code",
   "execution_count": 109,
   "metadata": {},
   "outputs": [
    {
     "output_type": "execute_result",
     "data": {
      "text/plain": "0                                  Carrera 13# 8n -39, Quindío 630003\n1    Cra. 14 No. 9 Norte-69, Av. Bolivar, Armenia, Quindío, Colombia,\n2                630001 Cra. 6 #13n-27 Local, Armenia, Quindío 630004\n6                          Cl. 5 Nte. #14–06, Armenia, Quindío 630004\n7                           Armenia, Quindío, Colombia, Mall Del Rio,\nName: Direccion, dtype: object"
     },
     "metadata": {},
     "execution_count": 109
    }
   ],
   "source": [
    "restaurantes[\"Direccion\"].head()"
   ]
  },
  {
   "cell_type": "markdown",
   "metadata": {},
   "source": [
    "Se observa que tienen el string \" • Mas información\" en todos lo registros. Se procede a eliminar. Así mismo se borran espacios en blanco al comienzo y final."
   ]
  },
  {
   "cell_type": "code",
   "execution_count": 107,
   "metadata": {},
   "outputs": [],
   "source": [
    "restaurantes[\"Direccion\"]=restaurantes[\"Direccion\"].apply(lambda x : str(x).replace(\"•\", \"\").replace(\"Más información\",\"\").strip()) ##Borrar string y espacios"
   ]
  },
  {
   "cell_type": "code",
   "execution_count": 108,
   "metadata": {},
   "outputs": [
    {
     "output_type": "execute_result",
     "data": {
      "text/plain": "'Cra. 14 No. 9 Norte-69, Av. Bolivar, Armenia, Quindío, Colombia,'"
     },
     "metadata": {},
     "execution_count": 108
    }
   ],
   "source": [
    "restaurantes[\"Direccion\"][1] ##Prueba"
   ]
  },
  {
   "cell_type": "markdown",
   "metadata": {},
   "source": [
    "### * REVIEWS:"
   ]
  },
  {
   "cell_type": "code",
   "execution_count": 111,
   "metadata": {},
   "outputs": [
    {
     "output_type": "execute_result",
     "data": {
      "text/plain": "(200+)    28\n(100+)    27\n(13)      25\n(17)      21\n(50+)     18\n          ..\n(108)      1\n(147)      1\n(50)       1\n(166)      1\n(82)       1\nName: Reviews, Length: 113, dtype: int64"
     },
     "metadata": {},
     "execution_count": 111
    }
   ],
   "source": [
    "restaurantes[\"Reviews\"].value_counts()"
   ]
  },
  {
   "cell_type": "markdown",
   "metadata": {},
   "source": [
    "Se nota como hay paréntesis y signos \"+\" no deseados, pues el interes está únicamente en el valor entero. Se procede a eliminar el signo \"+\" y los parentesis. Adicional a eso, se hace la conversión a columna numérica."
   ]
  },
  {
   "cell_type": "code",
   "execution_count": 112,
   "metadata": {},
   "outputs": [],
   "source": [
    "restaurantes[\"Reviews\"]=restaurantes[\"Reviews\"].apply(lambda x : str(x).replace(\"+\", \"\").replace(\"(\",\"\").replace(\")\",\"\").strip()) ##Borrar string y espacios"
   ]
  },
  {
   "cell_type": "code",
   "execution_count": 123,
   "metadata": {},
   "outputs": [
    {
     "output_type": "execute_result",
     "data": {
      "text/plain": "Int64Dtype()"
     },
     "metadata": {},
     "execution_count": 123
    }
   ],
   "source": [
    "restaurantes['Reviews'] = restaurantes.Reviews.astype('float').astype(\"Int64\")\n",
    "restaurantes[\"Reviews\"].head()\n",
    "restaurantes[\"Reviews\"].dtype"
   ]
  },
  {
   "cell_type": "markdown",
   "metadata": {},
   "source": [
    "### CATEGORÍA ESPECIFICA:\n",
    "\n",
    "Puede verse que todas los registros tienen un \" \\$ \" o \" \\$\\$ \".\n",
    " No sé sabe con seguridad lo que significa esto, pero parece importante almacenar si tiene uno o dos. Se retirarán dichos signos del registro de categoría, pero se creará otra variable que diga cuantos \"$\" tenía."
   ]
  },
  {
   "cell_type": "code",
   "execution_count": 135,
   "metadata": {},
   "outputs": [],
   "source": [
    "restaurantes['Cantidad_$']=restaurantes[\"Categoria_Especifica\"].apply(lambda x: str(x).count(\"$\"))"
   ]
  },
  {
   "cell_type": "code",
   "execution_count": 138,
   "metadata": {},
   "outputs": [
    {
     "output_type": "execute_result",
     "data": {
      "text/plain": "0    2\n1    1\n2    2\n6    2\n7    2\nName: Cantidad_$, dtype: int64"
     },
     "metadata": {},
     "execution_count": 138
    }
   ],
   "source": [
    "restaurantes[\"Cantidad_$\"].head()"
   ]
  }
 ],
 "metadata": {
  "language_info": {
   "codemirror_mode": {
    "name": "ipython",
    "version": 3
   },
   "file_extension": ".py",
   "mimetype": "text/x-python",
   "name": "python",
   "nbconvert_exporter": "python",
   "pygments_lexer": "ipython3",
   "version": "3.8.3-final"
  },
  "orig_nbformat": 2,
  "kernelspec": {
   "name": "python3",
   "display_name": "Python 3"
  }
 },
 "nbformat": 4,
 "nbformat_minor": 2
}